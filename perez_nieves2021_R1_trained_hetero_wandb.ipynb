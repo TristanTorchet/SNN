{
 "cells": [
  {
   "cell_type": "code",
   "execution_count": 2,
   "id": "initial_id",
   "metadata": {
    "ExecuteTime": {
     "end_time": "2024-05-09T15:25:15.895859Z",
     "start_time": "2024-05-09T15:25:14.818098Z"
    }
   },
   "outputs": [
    {
     "name": "stdout",
     "output_type": "stream",
     "text": [
      "[CpuDevice(id=0)]\n"
     ]
    },
    {
     "name": "stderr",
     "output_type": "stream",
     "text": [
      "WARNING: All log messages before absl::InitializeLog() is called are written to STDERR\n",
      "I0000 00:00:1715268315.848377       1 tfrt_cpu_pjrt_client.cc:349] TfrtCpuClient created.\n"
     ]
    }
   ],
   "source": [
    "import jax\n",
    "import jax.numpy as jnp\n",
    "import numpy as np\n",
    "import data\n",
    "import utils\n",
    "from hyperparameters import SimArgs\n",
    "from parameters import weight_generation_r1, tau_generation\n",
    "from sklearn.metrics import classification_report\n",
    "from utils import gr_than, train, inference\n",
    "import os\n",
    "# check gpu with jax\n",
    "print(jax.devices())"
   ]
  },
  {
   "cell_type": "code",
   "execution_count": 3,
   "id": "89c6f0da-031c-4dbb-91e8-b402250a6d66",
   "metadata": {
    "ExecuteTime": {
     "end_time": "2024-05-09T15:25:15.896264Z",
     "start_time": "2024-05-09T15:25:15.867826Z"
    }
   },
   "outputs": [
    {
     "name": "stdout",
     "output_type": "stream",
     "text": [
      "/Users/tristantorchet/Desktop/SNN/SNN_venv/bin/python3\n",
      "3.10.2 (main, Sep 28 2023, 20:12:42) [Clang 14.0.3 (clang-1403.0.22.14.1)]\n"
     ]
    }
   ],
   "source": [
    "import sys\n",
    "print(sys.executable)  # Shows the path to the Python interpreter\n",
    "print(sys.version)     # Shows the Python version"
   ]
  },
  {
   "cell_type": "code",
   "outputs": [],
   "source": [
    "import wandb "
   ],
   "metadata": {
    "collapsed": false,
    "ExecuteTime": {
     "end_time": "2024-05-09T15:27:52.400081Z",
     "start_time": "2024-05-09T15:27:52.382081Z"
    }
   },
   "id": "444ace8de36bffca",
   "execution_count": 11
  },
  {
   "cell_type": "code",
   "outputs": [],
   "source": [
    "# get time hh:mm\n",
    "import datetime\n",
    "now = datetime.datetime.now()\n",
    "h = now.hour\n",
    "m = now.minute\n",
    "d = now.day\n",
    "mo = now.month"
   ],
   "metadata": {
    "collapsed": false,
    "ExecuteTime": {
     "end_time": "2024-05-09T15:27:52.589940Z",
     "start_time": "2024-05-09T15:27:52.587168Z"
    }
   },
   "id": "ce53b026aa7a9b40",
   "execution_count": 12
  },
  {
   "cell_type": "code",
   "execution_count": 13,
   "id": "8cde9e9f4d0fa57d",
   "metadata": {
    "collapsed": false,
    "ExecuteTime": {
     "end_time": "2024-05-09T15:27:52.871419Z",
     "start_time": "2024-05-09T15:27:52.865093Z"
    }
   },
   "outputs": [],
   "source": [
    "\n",
    "sweep_config = {\n",
    "    'name': f'{d}_{mo}_{h}h{m}|PN21_R1_TrainHet_nhS_tm20_ts10_b_posW',\n",
    "    'method': 'grid',\n",
    "    'metric': {\n",
    "        'name': 'val_acc',\n",
    "        'goal': 'maximize'\n",
    "    },\n",
    "    'parameters': {\n",
    "        'n_in':      {'values': [700]},   # number of input neurons\n",
    "        'n_h':       {'values': [64, 128, 256]},   # number of hidden neurons\n",
    "        'seed':      {'values': [42, 43, 44]},    # random seed\n",
    "        'tau_mem':   {'values': [20e-3]}, # membrane time constant\n",
    "        'tau_syn':   {'values': [10e-3]}, # synaptic time constant\n",
    "        'nb_epochs': {'values': [100]},    # number of epochs\n",
    "        'lr':        {'values': [0.001]},  # learning rate\n",
    "        'bias_enable': {'values': [True]}, # add bias to each neuron in the hidden layer\n",
    "        'save_weights': {'values': [False]}, # save the trained weights\n",
    "        'pos_w':     {'values': [True]}, # positive Win at init\n",
    "    },\n",
    "}\n"
   ]
  },
  {
   "cell_type": "code",
   "outputs": [],
   "source": [
    "def main():\n",
    "    wandb.init()\n",
    "    args = SimArgs(\n",
    "        n_in=wandb.config.n_in, \n",
    "        n_h=wandb.config.n_h, \n",
    "        bias_enable=wandb.config.bias_enable,\n",
    "        train_tau=True,\n",
    "        seed=wandb.config.seed, \n",
    "        tau_mem=wandb.config.tau_mem,\n",
    "        tau_syn=wandb.config.tau_syn,\n",
    "        nb_epochs=wandb.config.nb_epochs, \n",
    "        lr=wandb.config.lr,\n",
    "    )\n",
    "    args.pos_w = wandb.config.pos_w\n",
    "    \n",
    "    def lif_recurrent(state, input_spikes):\n",
    "        ''' Vectorized Recurrent Leaky Integrate and Fire (LIF) neuron model\n",
    "        '''\n",
    "        beta_o, v_th, alpha_o = state[1] \n",
    "        print(f'{args.bias_enable=}')\n",
    "        if args.bias_enable:\n",
    "            ([Win, Wrec, Wout, Wb, beta_h, alpha_h], (i_h, v_h, z_h), (i, v, z)) = state[0]\n",
    "        else:\n",
    "            ([Win, Wrec, Wout, beta_h, alpha_h], (i_h, v_h, z_h), (i, v, z)) = state[0]\n",
    "        i_h = jnp.dot(Win, input_spikes) + jnp.dot(Wrec, z_h) + alpha_h * i_h\n",
    "        if args.bias_enable:\n",
    "            i_h += Wb\n",
    "\n",
    "        v_h = beta_h * v_h + i_h - z_h * v_th\n",
    "        v_h = jnp.maximum(0, v_h)\n",
    "        z_h = gr_than(v_h, v_th)\n",
    "        i = jnp.dot(Wout, z_h) + alpha_o * i\n",
    "        v = beta_o * v + i - z * v_th\n",
    "        v = jnp.maximum(0, v)\n",
    "        z = gr_than(v, v_th)\n",
    "        if args.bias_enable:\n",
    "            return (([Win, Wrec, Wout, Wb, beta_h, alpha_h], (i_h, v_h, z_h), (i, v, z)), state[1]), (z_h, v, z)\n",
    "        else:\n",
    "            return (([Win, Wrec, Wout, beta_h, alpha_h], (i_h, v_h, z_h), (i, v, z)), state[1]), (z_h, v, z)\n",
    "    utils.lif_recurrent = lif_recurrent\n",
    "\n",
    "    loaders = data.get_data_loaders(args)\n",
    "    key = jax.random.PRNGKey(args.seed)\n",
    "    key, w = weight_generation_r1(key, args, bias_enable=args.bias_enable)\n",
    "    log_params = f'{w[0].shape=} (in), {w[1].shape=} (rec), {w[2].shape=} (out)'\n",
    "    if args.bias_enable: \n",
    "        log_params += f', {w[-1].shape=} (bias)' \n",
    "\n",
    "    key, beta_h = tau_generation(key, tau_bar=args.tau_mem, layer_size=args.n_h, dt=args.timestep)\n",
    "    w.append(beta_h)\n",
    "    log_params += f', {beta_h.shape=} (tau_mem_h)'\n",
    "    \n",
    "    key, alpha_h = tau_generation(key, tau_bar=args.tau_syn, layer_size=args.n_h, dt=args.timestep)\n",
    "    w.append(alpha_h)\n",
    "    log_params += f', {alpha_h.shape=} (tau_syn_h)'\n",
    "    \n",
    "    beta_o = float(jnp.exp(-args.timestep/args.tau_mem))\n",
    "    alpha_o = float(jnp.exp(-args.timestep/args.tau_syn))\n",
    "    \n",
    "    hp = (beta_o, args.v_thr, alpha_o)\n",
    "    print(f'{len(hp)=}')\n",
    "    print(log_params)\n",
    "    print(f'{len(w)=}')\n",
    "    \n",
    "    get_params, opt_state, hist = train(w, hp, loaders, args)\n",
    "    hist = jnp.stack(hist, axis=1)\n",
    "    w = get_params(opt_state)\n",
    "    print(f'{len(w)=}')\n",
    "    \n",
    "    train_loss, train_acc, _ = inference(w, hp, loaders[0])\n",
    "    val_loss, val_acc, (val_labels, val_preds) = inference(w, hp, loaders[1])\n",
    "    print(f'{val_labels.shape=}, {val_preds.shape=}')\n",
    "    test_loss, test_acc, _   = inference(w, hp, loaders[2])\n",
    "    \n",
    "    report = classification_report(val_labels, val_preds)\n",
    "\n",
    "    \n",
    "    \n",
    "    # if directory 'wandb_data' does not exist, create it\n",
    "    sim_path = f'wandb_data/pn21/r1/'\n",
    "    if not os.path.exists(sim_path):\n",
    "        os.makedirs(sim_path)\n",
    "    \n",
    "    # sim_id = f'pn21_nh{args.n_h}_tm{int(args.tau_mem*1e3)}_ts{int(args.tau_syn*1e3)}'\n",
    "    # if args.bias_enable:\n",
    "    #     sim_id += '_b'\n",
    "    # if args.pos_w:\n",
    "    #     sim_id += '_posW'\n",
    "    #     \n",
    "    # # create a directory for the current simulation\n",
    "    # sim_path += f'/{sim_id}'\n",
    "    # if not os.path.exists(sim_path):\n",
    "    #     os.makedirs(sim_path)\n",
    "    \n",
    "    # read the csv file for train, val, test loss and accuracy\n",
    "    # check if results.csv exists\n",
    "    if not os.path.exists(f'{sim_path}/results.csv'):\n",
    "        with open(f'{sim_path}/results.csv', 'w') as f:\n",
    "            f.write('val_acc,test_acc,train_acc,val_loss,test_loss,train_loss,'\n",
    "                    'n_h,nb_epochs,lr,bias_enable,pos_w,tau_mem,tau_syn,seed\\n')\n",
    "    with open(f'{sim_path}/results.csv', 'a') as f:\n",
    "        f.write(f'{val_acc.mean():.4f},{test_acc.mean():.4f},{train_acc.mean():.4f},'\n",
    "                f'{val_loss.mean():.4f},{test_loss.mean():.4f},{train_loss.mean():.4f},'\n",
    "                f'{args.n_h},{args.nb_epochs},{args.lr},{args.bias_enable},{args.pos_w},'\n",
    "                f'{args.tau_mem},{args.tau_syn},{args.seed}\\n')\n",
    "    \n",
    "    # sim_path += f'/{args.seed}'\n",
    "    # if not os.path.exists(sim_path):\n",
    "    #     os.makedirs(sim_path)\n",
    "    # \n",
    "    # # save the report \n",
    "    # with open(f'{sim_path}/report.txt', 'w') as f:\n",
    "    #     f.write(report)\n",
    "    # # save the history\n",
    "    # jnp.save(f'{sim_path}/history.npy', hist)\n",
    "    #     \n",
    "    # # save the trained weights\\\n",
    "    # if wandb.config.save_weights:\n",
    "    #     jnp.save(f'{sim_path}/win.npy', w[0])\n",
    "    #     jnp.save(f'{sim_path}/wrec.npy', w[1])\n",
    "    #     jnp.save(f'{sim_path}/wout.npy', w[2])\n",
    "    #     if args.bias_enable:\n",
    "    #         jnp.save(f'{sim_path}/wb.npy', w[3])\n",
    "    #     jnp.save(f'{sim_path}/tmh.npy', w[-2])\n",
    "    #     jnp.save(f'{sim_path}/tsynh.npy', w[-1])\n",
    "    jax.clear_caches()\n",
    "        \n",
    "\n"
   ],
   "metadata": {
    "collapsed": false,
    "ExecuteTime": {
     "end_time": "2024-05-09T15:27:53.087412Z",
     "start_time": "2024-05-09T15:27:53.082018Z"
    }
   },
   "id": "4c4a0aabbbeb5fc5",
   "execution_count": 14
  },
  {
   "cell_type": "code",
   "outputs": [
    {
     "name": "stderr",
     "output_type": "stream",
     "text": [
      "\u001B[34m\u001B[1mwandb\u001B[0m: Currently logged in as: \u001B[33mtorchet-tristan\u001B[0m. Use \u001B[1m`wandb login --relogin`\u001B[0m to force relogin\n"
     ]
    },
    {
     "data": {
      "text/plain": "True"
     },
     "execution_count": 15,
     "metadata": {},
     "output_type": "execute_result"
    }
   ],
   "source": [
    "os.environ[\"WANDB_API_KEY\"] = \"26abb11684a03fc09307300eba9bc9cd3c71e4f0\"\n",
    "wandb.login()"
   ],
   "metadata": {
    "collapsed": false,
    "ExecuteTime": {
     "end_time": "2024-05-09T15:27:54.546975Z",
     "start_time": "2024-05-09T15:27:53.407808Z"
    }
   },
   "id": "bf38b069d5b468dd",
   "execution_count": 15
  },
  {
   "cell_type": "code",
   "outputs": [
    {
     "name": "stdout",
     "output_type": "stream",
     "text": [
      "Create sweep with ID: yr7w3zy7\n",
      "Sweep URL: https://wandb.ai/torchet-tristan/SNN/sweeps/yr7w3zy7\n"
     ]
    },
    {
     "name": "stderr",
     "output_type": "stream",
     "text": [
      "\u001B[34m\u001B[1mwandb\u001B[0m: Agent Starting Run: pceurdr4 with config:\n",
      "\u001B[34m\u001B[1mwandb\u001B[0m: \tbias_enable: True\n",
      "\u001B[34m\u001B[1mwandb\u001B[0m: \tlr: 0.001\n",
      "\u001B[34m\u001B[1mwandb\u001B[0m: \tn_h: 64\n",
      "\u001B[34m\u001B[1mwandb\u001B[0m: \tn_in: 700\n",
      "\u001B[34m\u001B[1mwandb\u001B[0m: \tnb_epochs: 100\n",
      "\u001B[34m\u001B[1mwandb\u001B[0m: \tpos_w: True\n",
      "\u001B[34m\u001B[1mwandb\u001B[0m: \tsave_weights: False\n",
      "\u001B[34m\u001B[1mwandb\u001B[0m: \tseed: 42\n",
      "\u001B[34m\u001B[1mwandb\u001B[0m: \ttau_mem: 0.02\n",
      "\u001B[34m\u001B[1mwandb\u001B[0m: \ttau_syn: 0.01\n"
     ]
    },
    {
     "data": {
      "text/plain": "<IPython.core.display.HTML object>",
      "text/html": "Tracking run with wandb version 0.17.0"
     },
     "metadata": {},
     "output_type": "display_data"
    },
    {
     "data": {
      "text/plain": "<IPython.core.display.HTML object>",
      "text/html": "Run data is saved locally in <code>/Users/tristantorchet/Desktop/SNN/wandb/run-20240509_172756-pceurdr4</code>"
     },
     "metadata": {},
     "output_type": "display_data"
    },
    {
     "data": {
      "text/plain": "<IPython.core.display.HTML object>",
      "text/html": "Syncing run <strong><a href='https://wandb.ai/torchet-tristan/SNN/runs/pceurdr4' target=\"_blank\">driven-sweep-1</a></strong> to <a href='https://wandb.ai/torchet-tristan/SNN' target=\"_blank\">Weights & Biases</a> (<a href='https://wandb.me/run' target=\"_blank\">docs</a>)<br/>Sweep page: <a href='https://wandb.ai/torchet-tristan/SNN/sweeps/yr7w3zy7' target=\"_blank\">https://wandb.ai/torchet-tristan/SNN/sweeps/yr7w3zy7</a>"
     },
     "metadata": {},
     "output_type": "display_data"
    },
    {
     "data": {
      "text/plain": "<IPython.core.display.HTML object>",
      "text/html": " View project at <a href='https://wandb.ai/torchet-tristan/SNN' target=\"_blank\">https://wandb.ai/torchet-tristan/SNN</a>"
     },
     "metadata": {},
     "output_type": "display_data"
    },
    {
     "data": {
      "text/plain": "<IPython.core.display.HTML object>",
      "text/html": " View sweep at <a href='https://wandb.ai/torchet-tristan/SNN/sweeps/yr7w3zy7' target=\"_blank\">https://wandb.ai/torchet-tristan/SNN/sweeps/yr7w3zy7</a>"
     },
     "metadata": {},
     "output_type": "display_data"
    },
    {
     "data": {
      "text/plain": "<IPython.core.display.HTML object>",
      "text/html": " View run at <a href='https://wandb.ai/torchet-tristan/SNN/runs/pceurdr4' target=\"_blank\">https://wandb.ai/torchet-tristan/SNN/runs/pceurdr4</a>"
     },
     "metadata": {},
     "output_type": "display_data"
    },
    {
     "name": "stdout",
     "output_type": "stream",
     "text": [
      "datasets:\n",
      " - available at: /Users/tristantorchet/Desktop/SNN/audiospikes_700/shd_train.h5\n",
      " - available at: /Users/tristantorchet/Desktop/SNN/audiospikes_700/shd_test.h5\n",
      "len(hp)=3\n",
      "w[0].shape=(64, 700) (in), w[1].shape=(64, 64) (rec), w[2].shape=(20, 64) (out), w[-1].shape=(64,) (bias), beta_h.shape=(64,) (tau_mem_h), alpha_h.shape=(64,) (tau_syn_h)\n",
      "len(w)=6\n",
      "Epoch |Loss      |Acc       |Val Acc   |Test Acc  |Val Loss  |Test Loss \n",
      "------|----------|----------|----------|----------|----------|----------\n",
      "args.bias_enable=True\n"
     ]
    },
    {
     "data": {
      "text/plain": "<IPython.core.display.HTML object>",
      "text/html": " View run <strong style=\"color:#cdcd00\">driven-sweep-1</strong> at: <a href='https://wandb.ai/torchet-tristan/SNN/runs/pceurdr4' target=\"_blank\">https://wandb.ai/torchet-tristan/SNN/runs/pceurdr4</a><br/> View project at: <a href='https://wandb.ai/torchet-tristan/SNN' target=\"_blank\">https://wandb.ai/torchet-tristan/SNN</a><br/>Synced 5 W&B file(s), 0 media file(s), 0 artifact file(s) and 0 other file(s)"
     },
     "metadata": {},
     "output_type": "display_data"
    },
    {
     "data": {
      "text/plain": "<IPython.core.display.HTML object>",
      "text/html": "Find logs at: <code>./wandb/run-20240509_172756-pceurdr4/logs</code>"
     },
     "metadata": {},
     "output_type": "display_data"
    }
   ],
   "source": [
    "sweep_id = wandb.sweep(sweep_config, project=\"SNN\") # 26abb11684a03fc09307300eba9bc9cd3c71e4f0\n",
    "wandb.agent(sweep_id, main)"
   ],
   "metadata": {
    "collapsed": false,
    "ExecuteTime": {
     "end_time": "2024-05-09T15:28:20.296350Z",
     "start_time": "2024-05-09T15:27:54.549314Z"
    }
   },
   "id": "ffdefcbb82b86c01",
   "execution_count": 16
  },
  {
   "cell_type": "code",
   "outputs": [],
   "source": [],
   "metadata": {
    "collapsed": false
   },
   "id": "92e8f9244a95e66e"
  }
 ],
 "metadata": {
  "kernelspec": {
   "display_name": "SNN-venv",
   "language": "python",
   "name": "snn-venv"
  },
  "language_info": {
   "codemirror_mode": {
    "name": "ipython",
    "version": 3
   },
   "file_extension": ".py",
   "mimetype": "text/x-python",
   "name": "python",
   "nbconvert_exporter": "python",
   "pygments_lexer": "ipython3",
   "version": "3.10.2"
  }
 },
 "nbformat": 4,
 "nbformat_minor": 5
}
